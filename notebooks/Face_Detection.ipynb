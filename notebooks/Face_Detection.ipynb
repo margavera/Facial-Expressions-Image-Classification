{
 "cells": [
  {
   "cell_type": "markdown",
   "metadata": {},
   "source": [
    "# Facial Expression Dataset: Face Detection with MTCNN"
   ]
  },
  {
   "cell_type": "markdown",
   "metadata": {},
   "source": [
    "Our goal is to **extract the face regions** from each image using a **pretrained face detector** to later use them in classification or other downstream tasks.\n",
    "\n",
    "## Model Used: MTCNN\n",
    " We use **MTCNN (Multi-task Cascaded Convolutional Networks)**, a robust and widely used model for face detection.\n",
    "\n",
    "**Why MTCNN?**\n",
    "- Detects faces with high accuracy, even under occlusions or various angles.\n",
    "- Returns facial landmarks (eyes, nose, mouth) along with the bounding box.\n",
    "- Lightweight and easy to integrate.\n",
    "\n",
    "> **Source**: Zhang et al., \"Joint Face Detection and Alignment using Multi-task Cascaded Convolutional Networks,\" IEEE SPL 2016.\n"
   ]
  },
  {
   "cell_type": "markdown",
   "metadata": {},
   "source": [
    "## Imports"
   ]
  },
  {
   "cell_type": "code",
   "execution_count": 13,
   "metadata": {},
   "outputs": [],
   "source": [
    "import cv2\n",
    "import matplotlib.pyplot as plt\n",
    "from mtcnn import MTCNN\n",
    "from PIL import Image\n",
    "import os"
   ]
  },
  {
   "cell_type": "markdown",
   "metadata": {},
   "source": [
    "## Face Detection Function"
   ]
  },
  {
   "cell_type": "markdown",
   "metadata": {},
   "source": [
    "This function takes an image path, applies MTCNN to detect faces, and returns the face region (cropped). This is specially useful for those cases in which the image is not centered or has a noticeable background that could introduce noise in the models."
   ]
  },
  {
   "cell_type": "code",
   "execution_count": 14,
   "metadata": {},
   "outputs": [],
   "source": [
    "detector = MTCNN()"
   ]
  },
  {
   "cell_type": "code",
   "execution_count": 15,
   "metadata": {},
   "outputs": [],
   "source": [
    "def detect_and_crop_face(image_path, save_cropped=False, save_dir=\"cropped_faces\"):\n",
    "    \"\"\"\n",
    "    Detects a face in the image and returns a cropped face region.\n",
    "\n",
    "    Parameters:\n",
    "    - image_path: str, path to the image\n",
    "    - save_cropped: bool, whether to save the cropped face to disk\n",
    "    - save_dir: str, directory to save cropped faces\n",
    "\n",
    "    Returns:\n",
    "    - cropped_face (PIL.Image) or None if no face is detected\n",
    "    \"\"\"\n",
    "    image = cv2.cvtColor(cv2.imread(image_path), cv2.COLOR_BGR2RGB)\n",
    "    results = detector.detect_faces(image)\n",
    "\n",
    "    if results:\n",
    "        x, y, w, h = results[0]['box']\n",
    "        face = image[y:y+h, x:x+w]\n",
    "        face_pil = Image.fromarray(face)\n",
    "\n",
    "        if save_cropped:\n",
    "            os.makedirs(save_dir, exist_ok=True)\n",
    "            filename = os.path.basename(image_path)\n",
    "            face_pil.save(os.path.join(save_dir, filename))\n",
    "\n",
    "        return face_pil\n",
    "    else:\n",
    "        print(f\"No face detected in {image_path}\")\n",
    "        return None  \n",
    "  "
   ]
  },
  {
   "cell_type": "markdown",
   "metadata": {},
   "source": [
    "### Example: Test Face Detection on One Image"
   ]
  },
  {
   "cell_type": "code",
   "execution_count": 16,
   "metadata": {},
   "outputs": [
    {
     "data": {
      "image/png": "[encoded data removed]",
      "text/plain": [
       "<Figure size 1000x500 with 2 Axes>"
      ]
     },
     "metadata": {},
     "output_type": "display_data"
    }
   ],
   "source": [
    "test_image_path = \"../dataset/train/angry/Training_14532305.jpg\"\n",
    "\n",
    "# Detect and crop face\n",
    "cropped_face = detect_and_crop_face(test_image_path)\n",
    "\n",
    "# Load original image\n",
    "original_img = cv2.imread(test_image_path)\n",
    "original_img = cv2.cvtColor(original_img, cv2.COLOR_BGR2RGB)  # Convert from BGR to RGB for matplotlib\n",
    "\n",
    "if cropped_face is not None:\n",
    "    fig, axs = plt.subplots(1, 2, figsize=(10, 5))\n",
    "\n",
    "    axs[0].imshow(original_img)\n",
    "    axs[0].set_title(\"Original Image\")\n",
    "    axs[0].axis(\"off\")\n",
    "\n",
    "    axs[1].imshow(cropped_face)\n",
    "    axs[1].set_title(\"Cropped Face\")\n",
    "    axs[1].axis(\"off\")\n",
    "\n",
    "    plt.tight_layout()\n",
    "    plt.show()\n",
    "else:\n",
    "    print(\"No face detected.\")"
   ]
  },
  {
   "cell_type": "markdown",
   "metadata": {},
   "source": [
    "### Batch Face Detection on Folder"
   ]
  },
  {
   "cell_type": "markdown",
   "metadata": {},
   "source": [
    "This batch function was not executed due to limited computational resources. However, our main goal was to extract faces by removing background and noise, enabling us to train the model on this newly generated, cleaner dataset."
   ]
  },
  {
   "cell_type": "code",
   "execution_count": 17,
   "metadata": {},
   "outputs": [],
   "source": [
    "def detect_faces_in_folder(folder_path, save_dir=\"cropped_faces_batch\"):\n",
    "    image_files = [f for f in os.listdir(folder_path) if f.endswith(('.png', '.jpg', '.jpeg'))]\n",
    "    for img_name in image_files:\n",
    "        img_path = os.path.join(folder_path, img_name)\n",
    "        detect_and_crop_face(img_path, save_cropped=True, save_dir=save_dir)"
   ]
  }
 ],
 "metadata": {
  "kernelspec": {
   "display_name": "adne_env",
   "language": "python",
   "name": "python3"
  },
  "language_info": {
   "codemirror_mode": {
    "name": "ipython",
    "version": 3
   },
   "file_extension": ".py",
   "mimetype": "text/x-python",
   "name": "python",
   "nbconvert_exporter": "python",
   "pygments_lexer": "ipython3",
   "version": "3.10.17"
  }
 },
 "nbformat": 4,
 "nbformat_minor": 2
}
