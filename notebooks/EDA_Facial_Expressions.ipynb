{
    "cells": [
     {
      "cell_type": "markdown",
      "metadata": {},
      "source": [
       "# Exploratory Data Analysis (EDA) for Facial Expressions Dataset\n",
       "\n",
       "This notebook provides a comprehensive EDA for the facial expressions image dataset. We will analyze class distributions, examine image characteristics, and visualize sample images from each emotion category."
      ]
     },
     {
      "cell_type": "code",
      "execution_count": null,
      "metadata": {},
      "outputs": [],
      "source": [
       "import sys\n",
       "sys.path.append('..')\n",
       "import pandas as pd\n",
       "import numpy as np\n",
       "import matplotlib.pyplot as plt\n",
       "import seaborn as sns\n",
       "\n",
       "# Import EDA utility functions\n",
       "from src.eda_utils import (\n",
       "    get_class_distribution,\n",
       "    plot_class_distribution,\n",
       "    show_sample_images,\n",
       "    analyze_image_dimensions\n",
       ")\n",
       "\n",
       "# Set plot style\n",
       "plt.style.use('seaborn')\n",
       "sns.set(style='whitegrid')\n",
       "\n",
       "# Define paths\n",
       "TRAIN_PATH = '../archive (2)/train'\n",
       "TEST_PATH = '../archive (2)/test'"
      ]
     },
     {
      "cell_type": "markdown",
      "metadata": {},
      "source": [
       "## 1. Dataset Overview\n",
       "\n",
       "Let's first examine the structure of our dataset and count the number of images in each emotion category."
      ]
     },
     {
      "cell_type": "code",
      "execution_count": null,
      "metadata": {},
      "outputs": [],
      "source": [
       "# Get distributions for train and test sets\n",
       "train_dist = get_class_distribution(TRAIN_PATH)\n",
       "test_dist = get_class_distribution(TEST_PATH)\n",
       "\n",
       "# Create DataFrames for visualization\n",
       "train_df = pd.DataFrame(list(train_dist.items()), columns=['Emotion', 'Count'])\n",
       "test_df = pd.DataFrame(list(test_dist.items()), columns=['Emotion', 'Count'])\n",
       "\n",
       "print(\"Training Set Distribution:\")\n",
       "print(train_df)\n",
       "print(\"\\nTest Set Distribution:\")\n",
       "print(test_df)"
      ]
     },
     {
      "cell_type": "markdown",
      "metadata": {},
      "source": [
       "## 2. Visualizing Class Distribution\n",
       "\n",
       "Let's visualize the distribution of images across different emotion categories."
      ]
     },
     {
      "cell_type": "code",
      "execution_count": null,
      "metadata": {},
      "outputs": [],
      "source": [
       "plot_class_distribution(train_df, 'Training Set Class Distribution')\n",
       "plot_class_distribution(test_df, 'Test Set Class Distribution')"
      ]
     },
     {
      "cell_type": "markdown",
      "metadata": {},
      "source": [
       "## 3. Image Analysis\n",
       "\n",
       "Let's examine some sample images from each emotion category and analyze their characteristics."
      ]
     },
     {
      "cell_type": "code",
      "execution_count": null,
      "metadata": {},
      "outputs": [],
      "source": [
       "show_sample_images(TRAIN_PATH)"
      ]
     },
     {
      "cell_type": "markdown",
      "metadata": {},
      "source": [
       "## 4. Image Statistics\n",
       "\n",
       "Let's analyze the dimensions and other characteristics of the images in our dataset."
      ]
     },
     {
      "cell_type": "code",
      "execution_count": null,
      "metadata": {},
      "outputs": [],
      "source": [
       "analyze_image_dimensions(TRAIN_PATH)"
      ]
     }
    ],
    "metadata": {
     "kernelspec": {
      "display_name": "Python 3",
      "language": "python",
      "name": "python3"
     },
     "language_info": {
      "codemirror_mode": {
       "name": "ipython",
       "version": 3
      },
      "file_extension": ".py",
      "mimetype": "text/x-python",
      "name": "python",
      "nbconvert_exporter": "python",
      "pygments_lexer": "ipython3",
      "version": "3.8.0"
     }
    },
    "nbformat": 4,
    "nbformat_minor": 4
   }