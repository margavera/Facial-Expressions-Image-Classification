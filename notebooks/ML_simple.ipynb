{
 "cells": [
  {
   "cell_type": "markdown",
   "metadata": {},
   "source": [
    "# Machine Learning Models"
   ]
  },
  {
   "cell_type": "markdown",
   "metadata": {},
   "source": [
    "## Imports"
   ]
  },
  {
   "cell_type": "code",
   "execution_count": 1,
   "metadata": {},
   "outputs": [],
   "source": [
    "import sys\n",
    "sys.path.append('..')\n",
    "\n",
    "from tensorflow.keras.applications import VGG16\n",
    "from tensorflow.keras.preprocessing.image import load_img, img_to_array\n",
    "from tensorflow.keras.applications.vgg16 import preprocess_input\n",
    "from sklearn.model_selection import train_test_split\n",
    "from sklearn.svm import SVC\n",
    "from PIL import Image\n",
    "from sklearn.metrics import classification_report\n",
    "import numpy as np\n",
    "import pandas as pd\n",
    "\n",
    "# Import ML utility functions\n",
    "from src.ml_model_utils import *\n",
    "\n",
    "import os\n",
    "csv_dir = os.path.abspath(os.path.join(os.getcwd(), '..', 'dataset'))\n",
    "\n",
    "train_paths_csv = os.path.join(csv_dir, 'balanced_train_paths.csv')\n",
    "test_paths_csv = os.path.join(csv_dir, 'balanced_test_paths.csv')\n",
    "\n",
    "train_csv = os.path.join(csv_dir, 'balanced_train.csv')\n",
    "test_csv = os.path.join(csv_dir, 'balanced_test.csv')"
   ]
  },
  {
   "cell_type": "code",
   "execution_count": 2,
   "metadata": {},
   "outputs": [],
   "source": [
    "balanced_train_image_paths = pd.read_csv(train_paths_csv)['image_path'].tolist()\n",
    "balanced_test_image_paths = pd.read_csv(test_paths_csv)['image_path'].tolist()"
   ]
  },
  {
   "cell_type": "code",
   "execution_count": 3,
   "metadata": {},
   "outputs": [],
   "source": [
    "balanced_train_image = pd.read_csv(train_csv)\n",
    "balanced_test_image = pd.read_csv(test_csv)"
   ]
  },
  {
   "cell_type": "markdown",
   "metadata": {},
   "source": [
    "## Feature Extraction"
   ]
  },
  {
   "cell_type": "markdown",
   "metadata": {},
   "source": [
    "#### Using model VGG16 without the classification layers\n",
    "\n",
    "**VGG16** is a convolutional neural network (CNN) architecture developed by the Visual Geometry Group at the University of Oxford. It’s known for its deep yet simple architecture made up of 13 convolutional layers and 3 fully connected (FC) layers. Instead of training a model from scratch, we can use pretrained models like VGG16, which have already learned to detect low-level and mid-level features (like edges, textures, shapes) from large datasets like ImageNet. \n",
    "\n",
    "For this case, we removed the top layers (classification layers) and keep only the convolutional base.\n",
    "\n",
    "**- Benefits**\n",
    "- Faster training — no need to learn low-level features from scratch.\n",
    "- High accuracy even with small datasets.\n",
    "- Useful as a first step before trying more complex deep learning models."
   ]
  },
  {
   "cell_type": "code",
   "execution_count": 4,
   "metadata": {},
   "outputs": [],
   "source": [
    "vgg_model = VGG16(weights='imagenet', include_top=False, input_shape=(224, 224, 3))"
   ]
  },
  {
   "cell_type": "code",
   "execution_count": 5,
   "metadata": {},
   "outputs": [],
   "source": [
    "# Feature Extraction\n",
    "X = extract_features(balanced_train_image_paths, vgg_model)\n",
    "\n",
    "y = balanced_train_image[\"Emotion\"]"
   ]
  },
  {
   "cell_type": "markdown",
   "metadata": {},
   "source": [
    "## SVM (SVC) model"
   ]
  },
  {
   "cell_type": "markdown",
   "metadata": {},
   "source": [
    "The **SVC (Support Vector Classification)** class from `sklearn.svm` is a popular supervised learning model used for classification tasks. It's based on the Support Vector Machine (SVM) algorithm, which is especially effective for high-dimensional spaces like image feature vectors extracted from models like VGG16. The main idea is that SVC finds the hyperplane that best separates the classes in the feature space. It maximizes the margin between the closest points of different classes, called support vectors."
   ]
  },
  {
   "cell_type": "code",
   "execution_count": 6,
   "metadata": {},
   "outputs": [
    {
     "name": "stdout",
     "output_type": "stream",
     "text": [
      "Classification Report:\n",
      "\n",
      "              precision    recall  f1-score   support\n",
      "\n",
      "       angry       0.26      0.21      0.23        87\n",
      "     disgust       0.62      0.66      0.64        87\n",
      "        fear       0.35      0.21      0.26        87\n",
      "       happy       0.58      0.49      0.53        88\n",
      "     neutral       0.51      0.59      0.55        87\n",
      "         sad       0.35      0.55      0.43        87\n",
      "    surprise       0.66      0.66      0.66        88\n",
      "\n",
      "    accuracy                           0.48       611\n",
      "   macro avg       0.48      0.48      0.47       611\n",
      "weighted avg       0.48      0.48      0.47       611\n",
      "\n"
     ]
    }
   ],
   "source": [
    "clf, y_pred, y_val = train_and_evaluate_svm(X, y)"
   ]
  },
  {
   "cell_type": "code",
   "execution_count": 7,
   "metadata": {},
   "outputs": [
    {
     "name": "stdout",
     "output_type": "stream",
     "text": [
      "Accuracy: 0.4795417348608838\n",
      "Classification Report:\n",
      "               precision    recall  f1-score     support\n",
      "angry          0.264706  0.206897  0.232258   87.000000\n",
      "disgust        0.619565  0.655172  0.636872   87.000000\n",
      "fear           0.352941  0.206897  0.260870   87.000000\n",
      "happy          0.581081  0.488636  0.530864   88.000000\n",
      "neutral        0.510000  0.586207  0.545455   87.000000\n",
      "sad            0.347826  0.551724  0.426667   87.000000\n",
      "surprise       0.659091  0.659091  0.659091   88.000000\n",
      "accuracy       0.479542  0.479542  0.479542    0.479542\n",
      "macro avg      0.476459  0.479232  0.470296  611.000000\n",
      "weighted avg   0.476929  0.479542  0.470705  611.000000\n"
     ]
    },
    {
     "data": {
      "image/png": "[encoded data removed]",
      "text/plain": [
       "<Figure size 640x480 with 2 Axes>"
      ]
     },
     "metadata": {},
     "output_type": "display_data"
    }
   ],
   "source": [
    "# Evaluate predictions\n",
    "metrics_df = evaluate_classification_metrics(y_val, y_pred)\n"
   ]
  }
 ],
 "metadata": {
  "kernelspec": {
   "display_name": "adne_imagen",
   "language": "python",
   "name": "python3"
  },
  "language_info": {
   "codemirror_mode": {
    "name": "ipython",
    "version": 3
   },
   "file_extension": ".py",
   "mimetype": "text/x-python",
   "name": "python",
   "nbconvert_exporter": "python",
   "pygments_lexer": "ipython3",
   "version": "3.10.17"
  }
 },
 "nbformat": 4,
 "nbformat_minor": 2
}
